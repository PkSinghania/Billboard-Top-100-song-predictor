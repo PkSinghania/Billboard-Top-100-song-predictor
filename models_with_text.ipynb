{
 "cells": [
  {
   "cell_type": "code",
   "execution_count": 1,
   "metadata": {},
   "outputs": [],
   "source": [
    "import numpy as np\n",
    "import pandas as pd\n",
    "import seaborn as sns\n",
    "import matplotlib.pyplot as plt\n",
    "\n",
    "import random\n",
    "import collections\n",
    "import math\n",
    "import sys\n",
    "import re\n",
    "\n",
    "from sklearn.model_selection import train_test_split\n",
    "from sklearn.metrics import confusion_matrix, accuracy_score, f1_score\n",
    "from sklearn.preprocessing import MinMaxScaler\n",
    "from sklearn.linear_model import LogisticRegression, LinearRegression\n",
    "from sklearn.svm import SVC\n",
    "from sklearn.ensemble import RandomForestClassifier\n",
    "from sklearn.neural_network import MLPClassifier\n",
    "from sklearn.discriminant_analysis import LinearDiscriminantAnalysis\n",
    "%matplotlib inline"
   ]
  },
  {
   "cell_type": "code",
   "execution_count": 3,
   "metadata": {},
   "outputs": [
    {
     "data": {
      "text/plain": [
       "(12244, 19)"
      ]
     },
     "execution_count": 3,
     "metadata": {},
     "output_type": "execute_result"
    }
   ],
   "source": [
    "d0 = pd.read_csv(\"comp_lyrics_data.csv\")\n",
    "\n",
    "d = d0.drop(d0.columns[0], axis = 1)\n",
    "# Data preprocessing: specify our training and test data\n",
    "colname = [col for col in d]\n",
    "colname.remove('Hit')\n",
    "colname.remove('Artist')\n",
    "colname.remove('Title')\n",
    "d.shape"
   ]
  },
  {
   "cell_type": "code",
   "execution_count": 4,
   "metadata": {},
   "outputs": [],
   "source": [
    "d1 = d.drop('Hit', axis = 1)\n",
    "label = d0['Hit'] \n",
    "\n",
    "attribute = list()\n",
    "for i,j in d1.iterrows():\n",
    "    feature = dict()\n",
    "    for col in colname:\n",
    "        feature[col] = j[col]\n",
    "    attribute.append(feature)"
   ]
  },
  {
   "cell_type": "code",
   "execution_count": 5,
   "metadata": {},
   "outputs": [],
   "source": [
    "X_train, X_test, y_train, y_test = train_test_split(attribute, label, test_size=0.20, random_state=42)"
   ]
  },
  {
   "cell_type": "code",
   "execution_count": 19,
   "metadata": {},
   "outputs": [],
   "source": [
    "def featureExtractor(d):\n",
    "    sparse = collections.defaultdict(float)\n",
    "    regex = re.compile('[^A-Za-z0-9]')\n",
    "    for key in d:\n",
    "        if key == 'lyrics':\n",
    "            for i in d[key].split():\n",
    "                text = regex.sub('', i)\n",
    "                sparse[text] += 1\n",
    "        else:\n",
    "            if(np.isnan(d[key])):\n",
    "                sparse[key] = 0\n",
    "            else:\n",
    "                sparse[key] = d[key]\n",
    "    return sparse"
   ]
  },
  {
   "cell_type": "code",
   "execution_count": 20,
   "metadata": {},
   "outputs": [],
   "source": [
    "def generateSparse(examples, feature):          # want m*10000\n",
    "    sparse = []\n",
    "    for j in examples:\n",
    "        sparse.append(feature(j))\n",
    "    return sparse"
   ]
  },
  {
   "cell_type": "code",
   "execution_count": 21,
   "metadata": {},
   "outputs": [],
   "source": [
    "trainsparse = generateSparse(X_train, featureExtractor)\n",
    "testsparse = generateSparse(X_test, featureExtractor)"
   ]
  },
  {
   "cell_type": "code",
   "execution_count": 22,
   "metadata": {},
   "outputs": [],
   "source": [
    "from sklearn.feature_extraction import DictVectorizer\n",
    "vec = DictVectorizer()\n",
    "trainmatrix = vec.fit_transform(trainsparse)\n",
    "testmatrix = vec.transform(testsparse)"
   ]
  },
  {
   "cell_type": "code",
   "execution_count": 24,
   "metadata": {},
   "outputs": [
    {
     "name": "stdout",
     "output_type": "stream",
     "text": [
      "The confusion matrix is: \n",
      "[[638 568]\n",
      " [422 821]]\n",
      "The accuracy of the Guassian svc is 0.5957533687219273 .\n",
      "The F1 score of the Guassian svc is 0.6238601823708206 .\n"
     ]
    }
   ],
   "source": [
    "svclassifier_rbf = SVC(kernel = 'rbf')\n",
    "svclassifier_rbf.fit(trainmatrix, y_train)\n",
    "y_pred_rbf = svclassifier_rbf.predict(testmatrix)\n",
    "y_true = y_test\n",
    "cm_rbf = confusion_matrix(y_true, y_pred_rbf)\n",
    "print ('The confusion matrix is: ')\n",
    "print (cm_rbf)\n",
    "\n",
    "accuracy_rbf = accuracy_score(y_true, y_pred_rbf)\n",
    "print ('The accuracy of the Guassian svc is {} .'.format(accuracy_rbf))\n",
    "\n",
    "f1_rbf = f1_score(y_true, y_pred_rbf, average = 'binary')\n",
    "print ('The F1 score of the Guassian svc is {} .'.format(f1_rbf))"
   ]
  },
  {
   "cell_type": "code",
   "execution_count": 23,
   "metadata": {},
   "outputs": [
    {
     "name": "stdout",
     "output_type": "stream",
     "text": [
      "The accuracy of the logistic classifier is 0.7264189465087791 .\n",
      "The confusion matrix is: \n",
      "[[870 336]\n",
      " [334 909]]\n",
      "The F1 score of the logistic regression is 0.7307073954983921 .\n"
     ]
    }
   ],
   "source": [
    "lr = LogisticRegression(solver = 'liblinear', multi_class = 'ovr', max_iter=10000)\n",
    "lr = lr.fit(trainmatrix, y_train)\n",
    "y_pred = lr.predict(testmatrix)\n",
    "y_true = y_test\n",
    "\n",
    "accuracy = accuracy_score(y_true, y_pred)\n",
    "print ('The accuracy of the logistic classifier is {} .'.format(accuracy))\n",
    "\n",
    "cm = confusion_matrix(y_true, y_pred)\n",
    "print ('The confusion matrix is: ')\n",
    "print (cm)\n",
    "\n",
    "f1 = f1_score(y_true, y_pred, average = 'binary')\n",
    "print ('The F1 score of the logistic regression is {} .'.format(f1))"
   ]
  },
  {
   "cell_type": "code",
   "execution_count": 17,
   "metadata": {},
   "outputs": [
    {
     "name": "stdout",
     "output_type": "stream",
     "text": [
      "The accuracy of the random forest classifier is 0.7104940792160065 .\n",
      "The confusion matrix is: \n",
      "[[786 420]\n",
      " [289 954]]\n",
      "The F1 score of the random forest regression is 0.7290790982040505 .\n"
     ]
    }
   ],
   "source": [
    "lr = RandomForestClassifier(n_estimators=100)\n",
    "lr = lr.fit(trainmatrix, y_train)\n",
    "y_pred = lr.predict(testmatrix)\n",
    "y_true = y_test\n",
    "\n",
    "accuracy = accuracy_score(y_true, y_pred)\n",
    "print ('The accuracy of the random forest classifier is {} .'.format(accuracy))\n",
    "\n",
    "cm = confusion_matrix(y_true, y_pred)\n",
    "print ('The confusion matrix is: ')\n",
    "print (cm)\n",
    "\n",
    "f1 = f1_score(y_true, y_pred, average = 'binary')\n",
    "print ('The F1 score of the random forest regression is {} .'.format(f1))"
   ]
  },
  {
   "cell_type": "code",
   "execution_count": null,
   "metadata": {},
   "outputs": [],
   "source": []
  }
 ],
 "metadata": {
  "kernelspec": {
   "display_name": "Python 3",
   "language": "python",
   "name": "python3"
  },
  "language_info": {
   "codemirror_mode": {
    "name": "ipython",
    "version": 3
   },
   "file_extension": ".py",
   "mimetype": "text/x-python",
   "name": "python",
   "nbconvert_exporter": "python",
   "pygments_lexer": "ipython3",
   "version": "3.6.4"
  }
 },
 "nbformat": 4,
 "nbformat_minor": 2
}

{
 "cells": [
  {
   "cell_type": "code",
   "execution_count": 1,
   "metadata": {},
   "outputs": [],
   "source": [
    "import spotipy\n",
    "from spotipy.oauth2 import SpotifyClientCredentials"
   ]
  },
  {
   "cell_type": "code",
   "execution_count": 2,
   "metadata": {},
   "outputs": [],
   "source": [
    "CLIENT_ID = 'Your Client ID'\n",
    "CLIENT_SECRET = 'Your Client Secret'\n",
    "\n",
    "def get_client_cred():\n",
    "    \n",
    "    client_credentials_manager = SpotifyClientCredentials(client_id=CLIENT_ID, client_secret=CLIENT_SECRET)\n",
    "    return spotipy.Spotify(client_credentials_manager=client_credentials_manager)"
   ]
  },
  {
   "cell_type": "code",
   "execution_count": 4,
   "metadata": {},
   "outputs": [],
   "source": [
    "def get_song_id(artistName, trackName, sp):\n",
    "    q = \"artist:{} track:{}\".format(artistName, trackName)\n",
    "    song_id = 0\n",
    "    song = sp.search(q=q, type=\"track\", limit=1)\n",
    "\n",
    "    for i, t in enumerate(song['tracks']['items']):\n",
    "        song_id = t['id']\n",
    "\n",
    "    return song_id"
   ]
  },
  {
   "cell_type": "code",
   "execution_count": 5,
   "metadata": {},
   "outputs": [],
   "source": [
    "def get_audio_features(track_id, sp):\n",
    "    \n",
    "    obj = None\n",
    "    if track_id:\n",
    "\n",
    "        features = sp.audio_features(str(track_id))\n",
    "        if features[0]:\n",
    "\n",
    "            duration_ms = features[0]['duration_ms']\n",
    "            key = features[0]['key']\n",
    "            acousticness = features[0]['acousticness']\n",
    "            danceability = features[0]['danceability']\n",
    "            energy = features[0]['energy']\n",
    "            instrumentalness = features[0]['instrumentalness']\n",
    "            liveness = features[0]['liveness']\n",
    "            loudness = features[0]['loudness']\n",
    "            speechiness = features[0]['speechiness']\n",
    "            tempo = features[0]['tempo']\n",
    "            valence = features[0]['valence']\n",
    "\n",
    "            obj = {\n",
    "                \"duration_ms\": duration_ms,\n",
    "                \"key\": key,\n",
    "                \"acousticness\": acousticness,\n",
    "                \"danceability\": danceability,\n",
    "                \"energy\": energy,\n",
    "                \"instrumentalness\": instrumentalness,\n",
    "                \"liveness\": liveness,\n",
    "                \"loudness\": loudness,\n",
    "                \"speechiness\": speechiness,\n",
    "                \"tempo\": tempo,\n",
    "                \"valence\": valence\n",
    "            }\n",
    "\n",
    "        return obj if obj else None"
   ]
  },
  {
   "cell_type": "code",
   "execution_count": null,
   "metadata": {},
   "outputs": [],
   "source": []
  }
 ],
 "metadata": {
  "kernelspec": {
   "display_name": "Python (sentiment)",
   "language": "python",
   "name": "sentiment"
  },
  "language_info": {
   "codemirror_mode": {
    "name": "ipython",
    "version": 3
   },
   "file_extension": ".py",
   "mimetype": "text/x-python",
   "name": "python",
   "nbconvert_exporter": "python",
   "pygments_lexer": "ipython3",
   "version": "3.7.6"
  }
 },
 "nbformat": 4,
 "nbformat_minor": 4
}
